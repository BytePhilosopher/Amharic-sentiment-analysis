{
 "cells": [
  {
   "cell_type": "markdown",
   "id": "89e6ed3b",
   "metadata": {},
   "source": [
    " TF-IDF Vectorization for Amharic Sentiment Analysis"
   ]
  },
  {
   "cell_type": "code",
   "execution_count": 5,
   "id": "cb0b5925",
   "metadata": {},
   "outputs": [],
   "source": [
    "\n",
    "\n",
    "# Import required libraries\n",
    "import pandas as pd\n",
    "from sklearn.feature_extraction.text import TfidfVectorizer\n",
    "import pickle\n"
   ]
  },
  {
   "cell_type": "code",
   "execution_count": 8,
   "id": "4dd5013d",
   "metadata": {},
   "outputs": [],
   "source": [
    "# Load cleaned data\n",
    "df = pd.read_csv(\"../data/processed/cleaned_amharic_sentiment.csv\")\n",
    "df.dropna(inplace=True)  # Just in case\n",
    "texts = df[\"cleaned_tweets\"].astype(str).tolist()\n",
    "labels = df[\"sentiment\"].tolist()\n"
   ]
  },
  {
   "cell_type": "code",
   "execution_count": 9,
   "id": "a7527978",
   "metadata": {},
   "outputs": [],
   "source": [
    "# Initialize TF-IDF vectorizer\n",
    "vectorizer = TfidfVectorizer(\n",
    "    max_features=5000,\n",
    "    ngram_range=(1, 2),\n",
    "    stop_words=None,  # You can add custom Amharic stop words later\n",
    ")\n",
    "\n",
    "# Fit and transform the text data\n",
    "X = vectorizer.fit_transform(texts)\n"
   ]
  },
  {
   "cell_type": "code",
   "execution_count": 10,
   "id": "cdc029f5",
   "metadata": {},
   "outputs": [
    {
     "name": "stdout",
     "output_type": "stream",
     "text": [
      "TF-IDF Matrix Shape: (6282, 5000)\n",
      "Example features: ['aalexonline' 'abaaboraa' 'abaaboraa abiyahmedali' 'abakoran'\n",
      " 'abbaacabsa' 'abbasheger' 'abbasheger nigigebi' 'abbasheger tseday'\n",
      " 'abbasshash' 'abebeabebayehu']\n"
     ]
    }
   ],
   "source": [
    "print(\"TF-IDF Matrix Shape:\", X.shape)\n",
    "print(\"Example features:\", vectorizer.get_feature_names_out()[:10])\n"
   ]
  },
  {
   "cell_type": "code",
   "execution_count": 11,
   "id": "429b937b",
   "metadata": {},
   "outputs": [
    {
     "name": "stdout",
     "output_type": "stream",
     "text": [
      "TF-IDF features and labels saved successfully.\n"
     ]
    }
   ],
   "source": [
    "# Save vectorized features (X) and labels (y) as pickle\n",
    "with open(\"../data/processed/tfidf_features.pkl\", \"wb\") as f:\n",
    "    pickle.dump(X, f)\n",
    "\n",
    "with open(\"../data/processed/labels.pkl\", \"wb\") as f:\n",
    "    pickle.dump(labels, f)\n",
    "\n",
    "# Also save vectorizer itself to reuse during prediction\n",
    "with open(\"../models/tfidf_vectorizer.pkl\", \"wb\") as f:\n",
    "    pickle.dump(vectorizer, f)\n",
    "\n",
    "print(\"TF-IDF features and labels saved successfully.\")\n"
   ]
  }
 ],
 "metadata": {
  "kernelspec": {
   "display_name": ".venv",
   "language": "python",
   "name": "python3"
  },
  "language_info": {
   "codemirror_mode": {
    "name": "ipython",
    "version": 3
   },
   "file_extension": ".py",
   "mimetype": "text/x-python",
   "name": "python",
   "nbconvert_exporter": "python",
   "pygments_lexer": "ipython3",
   "version": "3.9.6"
  }
 },
 "nbformat": 4,
 "nbformat_minor": 5
}
