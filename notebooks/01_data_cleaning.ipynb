{
 "cells": [
  {
   "cell_type": "code",
   "execution_count": 6,
   "id": "3b585c2e",
   "metadata": {},
   "outputs": [
    {
     "name": "stdout",
     "output_type": "stream",
     "text": [
      "              tweet_id sentiment\n",
      "0  1213084822521950209   neutral\n",
      "1  1213011490372038656   neutral\n",
      "2  1213763702715043840     mixed\n",
      "3  1213764224356421633   neutral\n",
      "4  1212766574337150976  positive\n"
     ]
    }
   ],
   "source": [
    "import pandas as pd\n",
    "\n",
    "train = pd.read_csv(\"../data/processed/train.csv\")\n",
    "test = pd.read_csv(\"../data/processed/test.csv\")\n",
    "\n",
    "print(train.head())\n",
    "# Expected columns: ['tweet_id', 'text', 'label']\n"
   ]
  },
  {
   "cell_type": "code",
   "execution_count": 11,
   "id": "edec1fa8",
   "metadata": {},
   "outputs": [],
   "source": [
    "import sys\n",
    "import os\n",
    "\n",
    "# Add the parent directory to sys.path so 'utils' can be imported\n",
    "sys.path.append(os.path.abspath(os.path.join(os.getcwd(), '..')))\n",
    "\n",
    "from utils.preprocessing import clean_amharic_text\n",
    "\n",
    "# Load and clean the train and test CSV files\n",
    "train_clean = clean_amharic_text(\"../data/processed/train.csv\")\n",
    "test_clean = clean_amharic_text(\"../data/processed/test.csv\")"
   ]
  },
  {
   "cell_type": "markdown",
   "id": "c7acfb07",
   "metadata": {},
   "source": []
  },
  {
   "cell_type": "markdown",
   "id": "398d78ec",
   "metadata": {},
   "source": []
  }
 ],
 "metadata": {
  "kernelspec": {
   "display_name": ".venv",
   "language": "python",
   "name": "python3"
  },
  "language_info": {
   "codemirror_mode": {
    "name": "ipython",
    "version": 3
   },
   "file_extension": ".py",
   "mimetype": "text/x-python",
   "name": "python",
   "nbconvert_exporter": "python",
   "pygments_lexer": "ipython3",
   "version": "3.9.6"
  }
 },
 "nbformat": 4,
 "nbformat_minor": 5
}
